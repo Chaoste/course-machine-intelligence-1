{
 "cells": [
  {
   "cell_type": "code",
   "execution_count": 58,
   "metadata": {
    "collapsed": false
   },
   "outputs": [],
   "source": [
    "from bayespy.nodes import Bernoulli, Mixture, MultiMixture\n",
    "from bayespy.inference import VB\n",
    "import itertools"
   ]
  },
  {
   "cell_type": "code",
   "execution_count": 46,
   "metadata": {
    "collapsed": false
   },
   "outputs": [
    {
     "name": "stdout",
     "output_type": "stream",
     "text": [
      "Iteration 1: loglike=-8.859004e-01 (0.046 seconds)\n",
      "Iteration 2: loglike=-8.434570e-01 (0.019 seconds)\n",
      "Iteration 3: loglike=-8.430205e-01 (0.026 seconds)\n",
      "Iteration 4: loglike=-8.430174e-01 (0.026 seconds)\n",
      "Converged at iteration 4.\n",
      "P(s=1|w=1) = 0.148459431093\n",
      "P(r=1|w=1) = 1.0\n"
     ]
    }
   ],
   "source": [
    "# 2. Water sprinkler example using BayesPy\n",
    "exp = 1e-20 # BayesPy has problems with 1.0 -> substract a small value\n",
    "cloudy = Categorical([0.5, 0.5])\n",
    "rain = Mixture(\n",
    "    cloudy,\n",
    "    Categorical, \n",
    "    [\n",
    "        [0.8, 0.2], # p(rain | not cloudy) = 0.2\n",
    "        [0.2, 0.8], # p(rain | cloudy) = 0.8\n",
    "    ]\n",
    ")\n",
    "sprinkler = Mixture(\n",
    "    cloudy,\n",
    "    Categorical, \n",
    "    [\n",
    "        [0.5, 0.5], # p(sprinkler on | not cloudy) = 0.5\n",
    "        [0.9, 0.1], # p(sprinkler on | cloudy) = 0.1\n",
    "    ]\n",
    ")\n",
    "wetGrass = MultiMixture(\n",
    "    [rain, sprinkler],\n",
    "    Categorical,\n",
    "    [\n",
    "        # No rain\n",
    "        [\n",
    "            # No sprinkler\n",
    "            [1.0 - exp, 0.0 + exp],\n",
    "            # Yes sprinkler\n",
    "            [0.1, 0.9]\n",
    "        ],\n",
    "        # Yes rain\n",
    "        [\n",
    "            # No sprinkler\n",
    "            [0.1, 0.9],\n",
    "            # Yes sprinkler\n",
    "            [0.01, 0.99]\n",
    "        ]\n",
    "    ]\n",
    ")\n",
    "\n",
    "wetGrass.observe(1)\n",
    "\n",
    "Q = VB(wetGrass, rain, sprinkler, cloudy)\n",
    "Q.update(repeat=100, verbose=True)\n",
    "\n",
    "print('P(s=1|w=1) =', sprinkler.get_moments()[0][1])\n",
    "print('P(r=1|w=1) =', rain.get_moments()[0][1])\n",
    "# FIXME: Returns wrong results -> Instead of BayesPy use pgmpy"
   ]
  },
  {
   "cell_type": "code",
   "execution_count": 63,
   "metadata": {
    "collapsed": false
   },
   "outputs": [
    {
     "name": "stdout",
     "output_type": "stream",
     "text": [
      "P(s=1|w=1) = 0.429763560501\n",
      "P(r=1|w=1) = 0.70792767733\n",
      "P(s=1|w=1, r=1) = 0.194499017682\n"
     ]
    }
   ],
   "source": [
    "# Hotfix: Manually calculate values\n",
    "p_c = np.array([0.5, 0.5])  # p(c)\n",
    "p_cs = np.array([[0.5, 0.5], [0.9, 0.1]])  # p(s|c)\n",
    "p_cr = np.array([[0.8, 0.2], [0.2, 0.8]])  # p(r|c)\n",
    "p_rsw = np.array([[[1.0, 0.0], [0.1, 0.9]], [[0.1, 0.9], [0.01, 0.99]]])  # p(w|r,s)\n",
    "\n",
    "def p(c=[0, 1], r=[0, 1], s=[0, 1], w=[0, 1]):\n",
    "    p_sum = 0.0\n",
    "    for ci, ri, si, wi in itertools.product(c, r, s, w):\n",
    "        p_sum += p_c[ci] * p_cs[ci, si] * p_cr[ci, ri] * p_rsw[ri, si, wi]\n",
    "    return p_sum\n",
    "\n",
    "print('P(s=1|w=1) =', p(s=[1], w=[1]) / p(w=[1]))\n",
    "print('P(r=1|w=1) =', p(r=[1], w=[1]) / p(w=[1]))\n",
    "print('P(s=1|w=1, r=1) =', p(s=[1], w=[1], r=[1]) / p(w=[1], r=[1]))"
   ]
  }
 ],
 "metadata": {
  "kernelspec": {
   "display_name": "Python 3",
   "language": "python",
   "name": "python3"
  },
  "language_info": {
   "codemirror_mode": {
    "name": "ipython",
    "version": 3
   },
   "file_extension": ".py",
   "mimetype": "text/x-python",
   "name": "python",
   "nbconvert_exporter": "python",
   "pygments_lexer": "ipython3",
   "version": "3.5.2"
  }
 },
 "nbformat": 4,
 "nbformat_minor": 1
}
