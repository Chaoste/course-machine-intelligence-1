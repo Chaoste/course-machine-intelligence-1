{
 "cells": [
  {
   "cell_type": "code",
   "execution_count": 1,
   "metadata": {
    "collapsed": true
   },
   "outputs": [],
   "source": [
    "from bayespy.nodes import Categorical, Mixture, MultiMixture\n",
    "from bayespy.inference import VB\n",
    "%matplotlib inline"
   ]
  },
  {
   "cell_type": "code",
   "execution_count": 10,
   "metadata": {
    "collapsed": false
   },
   "outputs": [],
   "source": [
    "# 2. Water sprinkler example using BayesPy\n",
    "exp = 1e-20 # BayesPy has problems with 1.0 -> substract a small value\n",
    "cloudy = Categorical([0.5, 0.5])\n",
    "rain = Mixture(\n",
    "    cloudy,\n",
    "    Categorical, \n",
    "    [\n",
    "        [0.8, 0.2], # p(rain | not cloudy) = 0.2\n",
    "        [0.2, 0.8], # p(rain | cloudy) = 0.8\n",
    "    ]\n",
    ")\n",
    "sprinkler = Mixture(\n",
    "    cloudy,\n",
    "    Categorical, \n",
    "    [\n",
    "        [0.5, 0.5], # p(sprinkler on | not cloudy) = 0.5\n",
    "        [0.9, 0.1], # p(sprinkler on | cloudy) = 0.1\n",
    "    ]\n",
    ")\n",
    "wetGrass = MultiMixture(\n",
    "    [rain, sprinkler],\n",
    "    Categorical,\n",
    "    [\n",
    "        # No rain\n",
    "        [\n",
    "            # No sprinkler\n",
    "            [1.0 - exp, 0.0 + exp],\n",
    "            # Yes sprinkler\n",
    "            [0.1, 0.9]\n",
    "        ],\n",
    "        # Yes rain\n",
    "        [\n",
    "            # No sprinkler\n",
    "            [0.1, 0.9],\n",
    "            # Yes sprinkler\n",
    "            [0.01, 0.99]\n",
    "        ]\n",
    "    ]\n",
    ")"
   ]
  },
  {
   "cell_type": "code",
   "execution_count": 11,
   "metadata": {
    "collapsed": false
   },
   "outputs": [
    {
     "name": "stdout",
     "output_type": "stream",
     "text": [
      "Iteration 1: loglike=-8.859004e-01 (0.015 seconds)\n",
      "Iteration 2: loglike=-8.434570e-01 (0.012 seconds)\n",
      "Iteration 3: loglike=-8.430205e-01 (0.022 seconds)\n",
      "Iteration 4: loglike=-8.430174e-01 (0.024 seconds)\n",
      "Converged at iteration 4.\n",
      "P(s=1|w=1) = 0.148459431093\n",
      "P(r=1|w=1) = 1.0\n"
     ]
    }
   ],
   "source": [
    "wetGrass.observe(1)\n",
    "\n",
    "Q = VB(wetGrass, rain, sprinkler, cloudy)\n",
    "Q.update(repeat=100, verbose=True)\n",
    "\n",
    "print('P(s=1|w=1) =', sprinkler.get_moments()[0][1])\n",
    "print('P(r=1|w=1) =', rain.get_moments()[0][1])"
   ]
  },
  {
   "cell_type": "code",
   "execution_count": null,
   "metadata": {
    "collapsed": true
   },
   "outputs": [],
   "source": []
  }
 ],
 "metadata": {
  "kernelspec": {
   "display_name": "Python 3",
   "language": "python",
   "name": "python3"
  },
  "language_info": {
   "codemirror_mode": {
    "name": "ipython",
    "version": 3
   },
   "file_extension": ".py",
   "mimetype": "text/x-python",
   "name": "python",
   "nbconvert_exporter": "python",
   "pygments_lexer": "ipython3",
   "version": "3.5.2"
  }
 },
 "nbformat": 4,
 "nbformat_minor": 1
}
