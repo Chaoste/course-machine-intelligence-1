{
 "cells": [
  {
   "cell_type": "code",
   "execution_count": 1,
   "metadata": {
    "collapsed": false
   },
   "outputs": [
    {
     "ename": "ImportError",
     "evalue": "No module named 'scikit'",
     "output_type": "error",
     "traceback": [
      "\u001b[0;31m---------------------------------------------------------------------------\u001b[0m",
      "\u001b[0;31mImportError\u001b[0m                               Traceback (most recent call last)",
      "\u001b[0;32m<ipython-input-1-3728a38f2be6>\u001b[0m in \u001b[0;36m<module>\u001b[0;34m()\u001b[0m\n\u001b[1;32m      5\u001b[0m \u001b[1;32mimport\u001b[0m \u001b[0mmpl_toolkits\u001b[0m\u001b[1;33m.\u001b[0m\u001b[0maxes_grid1\u001b[0m \u001b[1;32mas\u001b[0m \u001b[0mplt_ax\u001b[0m\u001b[1;33m\u001b[0m\u001b[0m\n\u001b[1;32m      6\u001b[0m \u001b[1;32mimport\u001b[0m \u001b[0mscipy\u001b[0m\u001b[1;33m.\u001b[0m\u001b[0mstats\u001b[0m\u001b[1;33m\u001b[0m\u001b[0m\n\u001b[0;32m----> 7\u001b[0;31m \u001b[1;32mimport\u001b[0m \u001b[0mscikit\u001b[0m\u001b[1;33m\u001b[0m\u001b[0m\n\u001b[0m\u001b[1;32m      8\u001b[0m \u001b[1;32mimport\u001b[0m \u001b[0mitertools\u001b[0m\u001b[1;33m\u001b[0m\u001b[0m\n\u001b[1;32m      9\u001b[0m \u001b[0mget_ipython\u001b[0m\u001b[1;33m(\u001b[0m\u001b[1;33m)\u001b[0m\u001b[1;33m.\u001b[0m\u001b[0mmagic\u001b[0m\u001b[1;33m(\u001b[0m\u001b[1;34m'matplotlib inline'\u001b[0m\u001b[1;33m)\u001b[0m\u001b[1;33m\u001b[0m\u001b[0m\n",
      "\u001b[0;31mImportError\u001b[0m: No module named 'scikit'"
     ]
    }
   ],
   "source": [
    "import numpy as np\n",
    "import matplotlib.pyplot as plt\n",
    "import matplotlib.cm as cm\n",
    "import mpl_toolkits.mplot3d\n",
    "import mpl_toolkits.axes_grid1 as plt_ax\n",
    "import scipy.stats\n",
    "import scikit\n",
    "import itertools\n",
    "%matplotlib inline\n",
    "\n",
    "def plot(data, ax=None, enum=False, title='', labels=None, legend=False, **kwargs):\n",
    "    axes_defined = ax != None\n",
    "    if not axes_defined:\n",
    "        fig, ax = plt.subplots(1, 1, figsize=(13, 4))\n",
    "    plotted = None\n",
    "    if enum:\n",
    "        plotted = ax.plot(data, **kwargs)\n",
    "    else:\n",
    "        mapping = np.array(data).T\n",
    "        plotted = ax.plot(mapping[0], mapping[1], **kwargs)\n",
    "    if labels:\n",
    "        ax.set_xlabel(labels[0])\n",
    "        if (len(labels) > 1):\n",
    "            ax.set_ylabel(labels[1])\n",
    "    if legend:\n",
    "        ax.legend(bbox_to_anchor=(1.05, 1), loc=2, borderaxespad=0)\n",
    "    ax.set_title(title)\n",
    "    ax.grid(True)\n",
    "    if not axes_defined:\n",
    "        fig.tight_layout()\n",
    "    return ax\n",
    "\n",
    "def scatter(data, ax=None, enum=False, title='', labels=None, legend=False, colorbar=False, xlim=None, **kwargs):\n",
    "    axes_defined = ax != None\n",
    "    if not axes_defined:\n",
    "        fig, ax = plt.subplots(1, 1, figsize=(13, 4))\n",
    "    scattered = None\n",
    "    if enum:\n",
    "        scattered = ax.scatter(range(len(data)), data, **kwargs)\n",
    "    else:\n",
    "        mapping = np.array(data).T\n",
    "        scattered = ax.scatter(mapping[0], mapping[1], **kwargs)\n",
    "    if labels:\n",
    "        ax.set_xlabel(labels[0])\n",
    "        if (len(labels) > 1):\n",
    "            ax.set_ylabel(labels[1])\n",
    "    if legend:\n",
    "        ax.legend(bbox_to_anchor=(1.05, 1), loc=2, borderaxespad=0)\n",
    "    if xlim:\n",
    "        ax.set_xlim(xlim)\n",
    "    ax.set_title(title)\n",
    "    ax.grid(True)\n",
    "    if colorbar:\n",
    "        cax = plt_ax.make_axes_locatable(ax).append_axes(\"right\", size=\"5%\", pad=0.05)\n",
    "        cbar = plt.colorbar(scattered, cax=cax)\n",
    "        cbar.set_ticks([-1, 0, 1])\n",
    "    if not axes_defined:\n",
    "        fig.tight_layout()\n",
    "    return ax"
   ]
  }
 ],
 "metadata": {
  "kernelspec": {
   "display_name": "Python 3",
   "language": "python",
   "name": "python3"
  },
  "language_info": {
   "codemirror_mode": {
    "name": "ipython",
    "version": 3
   },
   "file_extension": ".py",
   "mimetype": "text/x-python",
   "name": "python",
   "nbconvert_exporter": "python",
   "pygments_lexer": "ipython3",
   "version": "3.5.2"
  }
 },
 "nbformat": 4,
 "nbformat_minor": 1
}
